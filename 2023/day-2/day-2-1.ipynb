{
 "cells": [
  {
   "cell_type": "code",
   "execution_count": 35,
   "metadata": {},
   "outputs": [],
   "source": [
    "import * as utils from '../_utils/mod.ts'"
   ]
  },
  {
   "cell_type": "code",
   "execution_count": 36,
   "metadata": {},
   "outputs": [],
   "source": [
    "const input = await utils.loadInput({ day: 2, part: 1, splitLines: true })"
   ]
  },
  {
   "cell_type": "code",
   "execution_count": 37,
   "metadata": {},
   "outputs": [],
   "source": [
    "import { assert } from 'https://deno.land/std@0.208.0/assert/assert.ts'\n",
    "\n",
    "const config: Required<CubeSubset> = {\n",
    "  red: 12,\n",
    "  green: 13,\n",
    "  blue: 14\n",
    "}\n",
    "\n",
    "interface CubeSubset {\n",
    "  red?: number\n",
    "  green?: number\n",
    "  blue?: number\n",
    "}\n",
    "\n",
    "function getGameId(input: string): number {\n",
    "  const rawGame = input.split(':')\n",
    "  const gameId = parseInt(rawGame[0].split(' ')[1].trim())\n",
    "  assert(!isNaN(gameId))\n",
    "  return gameId\n",
    "}\n",
    "\n",
    "function getCubeSubsets(input: string): CubeSubset[] {\n",
    "  const rawGame = input.split(':')\n",
    "  const rawCubeSubsets = rawGame[1].split(';')\n",
    "  const cubeSubsets: CubeSubset[] = []\n",
    "\n",
    "  for (const rawCubeSubset of rawCubeSubsets) {\n",
    "    const cubeSubset: CubeSubset = {};\n",
    "    const rawCubeSubsetParts = rawCubeSubset.trim().split(',')\n",
    "    for (const rawCubeSubsetPart of rawCubeSubsetParts) {\n",
    "      const [rawNumColour, rawColour] = rawCubeSubsetPart.trim().split(' ')\n",
    "      const colour = rawColour.trim() as keyof CubeSubset\n",
    "      assert(colour in config)\n",
    "      const numColour = parseInt(rawNumColour.trim())\n",
    "      cubeSubset[colour] = numColour\n",
    "    }\n",
    "    cubeSubsets.push(cubeSubset)\n",
    "  }\n",
    "\n",
    "  return cubeSubsets\n",
    "}\n",
    "\n",
    "function isValidGame(cubeSubsets: CubeSubset[]): boolean {\n",
    "  for (const cubeSubset of cubeSubsets) {\n",
    "    for (const [colour, numColour] of Object.entries(cubeSubset)) {\n",
    "      if (numColour > config[colour as keyof CubeSubset]) {\n",
    "        return false\n",
    "      }\n",
    "    }\n",
    "  }\n",
    "  return true\n",
    "}\n",
    "\n",
    "function calculateSumOfGameIds(input: string[]): number {\n",
    "  return input\n",
    "    .map((game): number => {\n",
    "      const gameId = getGameId(game)\n",
    "      const cubeSubsets = getCubeSubsets(game)\n",
    "      if (isValidGame(cubeSubsets)) {\n",
    "        return gameId\n",
    "      }\n",
    "      return 0\n",
    "    })\n",
    "    .reduce((acc, value) => acc + value, 0)\n",
    "}\n"
   ]
  },
  {
   "cell_type": "code",
   "execution_count": 38,
   "metadata": {},
   "outputs": [
    {
     "name": "stdout",
     "output_type": "stream",
     "text": [
      "2476\n"
     ]
    }
   ],
   "source": [
    "console.log(calculateSumOfGameIds(input))"
   ]
  }
 ],
 "metadata": {
  "kernelspec": {
   "display_name": "Deno",
   "language": "typescript",
   "name": "deno"
  },
  "language_info": {
   "file_extension": ".ts",
   "mimetype": "text/x.typescript",
   "name": "typescript",
   "nb_converter": "script",
   "pygments_lexer": "typescript",
   "version": "5.2.2"
  }
 },
 "nbformat": 4,
 "nbformat_minor": 2
}

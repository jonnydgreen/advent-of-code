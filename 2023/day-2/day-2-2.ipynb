{
 "cells": [
  {
   "cell_type": "code",
   "execution_count": 5,
   "metadata": {},
   "outputs": [],
   "source": [
    "import * as utils from '../_utils/mod.ts'"
   ]
  },
  {
   "cell_type": "code",
   "execution_count": 6,
   "metadata": {},
   "outputs": [],
   "source": [
    "const input = await utils.loadInput({ day: 2, part: 2, splitLines: true })"
   ]
  },
  {
   "cell_type": "code",
   "execution_count": 7,
   "metadata": {},
   "outputs": [],
   "source": [
    "import { assert } from 'https://deno.land/std@0.208.0/assert/assert.ts'\n",
    "\n",
    "interface CubeSubset {\n",
    "  red?: number\n",
    "  green?: number\n",
    "  blue?: number\n",
    "}\n",
    "\n",
    "function getGameId(input: string): number {\n",
    "  const rawGame = input.split(':')\n",
    "  const gameId = parseInt(rawGame[0].split(' ')[1].trim())\n",
    "  assert(!isNaN(gameId))\n",
    "  return gameId\n",
    "}\n",
    "\n",
    "function getCubeSubsets(input: string): CubeSubset[] {\n",
    "  const rawGame = input.split(':')\n",
    "  const rawCubeSubsets = rawGame[1].split(';')\n",
    "  const cubeSubsets: CubeSubset[] = []\n",
    "\n",
    "  for (const rawCubeSubset of rawCubeSubsets) {\n",
    "    const cubeSubset: CubeSubset = {};\n",
    "    const rawCubeSubsetParts = rawCubeSubset.trim().split(',')\n",
    "    for (const rawCubeSubsetPart of rawCubeSubsetParts) {\n",
    "      const [rawNumColour, rawColour] = rawCubeSubsetPart.trim().split(' ')\n",
    "      const colour = rawColour.trim() as keyof CubeSubset\n",
    "      const numColour = parseInt(rawNumColour.trim())\n",
    "      cubeSubset[colour] = numColour\n",
    "    }\n",
    "    cubeSubsets.push(cubeSubset)\n",
    "  }\n",
    "\n",
    "  return cubeSubsets\n",
    "}\n",
    "\n",
    "function getLowestConfig(cubeSubsets: CubeSubset[]): CubeSubset {\n",
    "  const config: Required<CubeSubset> = {\n",
    "    red: 0,\n",
    "    green: 0,\n",
    "    blue: 0,\n",
    "  }\n",
    "  for (const cubeSubset of cubeSubsets) {\n",
    "    for (const [colour, numColour] of Object.entries(cubeSubset)) {\n",
    "      if (numColour > config[colour as keyof CubeSubset]) {\n",
    "        config[colour as keyof CubeSubset] = numColour\n",
    "      }\n",
    "    }\n",
    "  }\n",
    "  return config\n",
    "}\n",
    "\n",
    "function calculatePowerOfGames(input: string[]): number {\n",
    "  return input\n",
    "    .map((game): number => {\n",
    "      const cubeSubsets = getCubeSubsets(game)\n",
    "      const config = getLowestConfig(cubeSubsets)\n",
    "      const power = Object.values(config).reduce((acc, value) => acc * value, 1)\n",
    "      return power\n",
    "    })\n",
    "    .reduce((acc, value) => acc + value, 0)\n",
    "}\n"
   ]
  },
  {
   "cell_type": "code",
   "execution_count": 8,
   "metadata": {},
   "outputs": [
    {
     "name": "stdout",
     "output_type": "stream",
     "text": [
      "54911\n"
     ]
    }
   ],
   "source": [
    "console.log(calculatePowerOfGames(input))"
   ]
  }
 ],
 "metadata": {
  "kernelspec": {
   "display_name": "Deno",
   "language": "typescript",
   "name": "deno"
  },
  "language_info": {
   "file_extension": ".ts",
   "mimetype": "text/x.typescript",
   "name": "typescript",
   "nb_converter": "script",
   "pygments_lexer": "typescript",
   "version": "5.2.2"
  }
 },
 "nbformat": 4,
 "nbformat_minor": 2
}

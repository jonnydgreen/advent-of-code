{
 "cells": [
  {
   "cell_type": "code",
   "execution_count": 68,
   "metadata": {},
   "outputs": [],
   "source": [
    "import * as utils from '../_utils/mod.ts'"
   ]
  },
  {
   "cell_type": "code",
   "execution_count": 69,
   "metadata": {},
   "outputs": [],
   "source": [
    "const input = await utils.loadMatrix({ day: 3, part: 1 })\n"
   ]
  },
  {
   "cell_type": "code",
   "execution_count": 70,
   "metadata": {},
   "outputs": [],
   "source": [
    "import { assert } from 'https://deno.land/std@0.208.0/assert/assert.ts'\n",
    "\n",
    "interface Location {\n",
    "  row: number\n",
    "  start: number\n",
    "  end: number\n",
    "  value: number\n",
    "}\n",
    "\n",
    "function findLocations(input: string[][]): Location[] {\n",
    "  let rowIndex = 0\n",
    "  const locations: Location[] = []\n",
    "  for (const row of input) {\n",
    "    let columnIndex = 0\n",
    "    let start: number | null = null\n",
    "    let rawNum = ''\n",
    "    for (const column of row) {\n",
    "      if (start === null) {\n",
    "        if (parseInt(column)) {\n",
    "          start = columnIndex\n",
    "          rawNum += column\n",
    "        } else {\n",
    "          // Nothing to do, we are between numbers\n",
    "        }\n",
    "      } else {\n",
    "        if (!Number.isInteger(parseInt(column))) {\n",
    "          locations.push({\n",
    "            start,\n",
    "            end: columnIndex - 1,\n",
    "            value: parseInt(rawNum),\n",
    "            row: rowIndex\n",
    "          })\n",
    "          start = null\n",
    "          rawNum = ''\n",
    "        } else {\n",
    "          // We are in a number so add a digit to the raw number\n",
    "          rawNum += column\n",
    "        }\n",
    "      }\n",
    "      columnIndex++\n",
    "    }\n",
    "    rowIndex++\n",
    "  }\n",
    "  return locations\n",
    "}\n",
    "\n",
    "const locations = findLocations(input)\n"
   ]
  },
  {
   "cell_type": "code",
   "execution_count": 71,
   "metadata": {},
   "outputs": [],
   "source": [
    "interface Location {\n",
    "  row: number\n",
    "  start: number\n",
    "  end: number\n",
    "  value: number\n",
    "}\n",
    "\n",
    "function isPartNumber(input: string[][], location: Location): boolean {\n",
    "  const { row, start, end } = location\n",
    "  const elementsToCheck: string[] = []\n",
    "  // Row above\n",
    "  elementsToCheck.push(...input[row - 1].slice(start -1, end + 2))\n",
    "  // Before start\n",
    "  elementsToCheck.push(input[row][start - 1])\n",
    "  // After end\n",
    "  elementsToCheck.push(input[row][end + 1])\n",
    "  // Row below\n",
    "  elementsToCheck.push(...input[row + 1].slice(start -1, end + 2))\n",
    "\n",
    "  return elementsToCheck.some((element) => element !== '.' && !Number.isInteger(parseInt(element)))\n",
    "}\n",
    "\n",
    "function calculateSumOfPartNumbers(locations: Location[]): number {\n",
    "  let sum = 0\n",
    "  for (const location of locations) {\n",
    "    if (isPartNumber(input, location)) {\n",
    "      sum += location.value\n",
    "    }\n",
    "  }\n",
    "  return sum\n",
    "}"
   ]
  },
  {
   "cell_type": "code",
   "execution_count": 72,
   "metadata": {},
   "outputs": [
    {
     "name": "stdout",
     "output_type": "stream",
     "text": [
      "530495\n"
     ]
    }
   ],
   "source": [
    "console.log(calculateSumOfPartNumbers(locations))"
   ]
  }
 ],
 "metadata": {
  "kernelspec": {
   "display_name": "Deno",
   "language": "typescript",
   "name": "deno"
  },
  "language_info": {
   "file_extension": ".ts",
   "mimetype": "text/x.typescript",
   "name": "typescript",
   "nb_converter": "script",
   "pygments_lexer": "typescript",
   "version": "5.2.2"
  }
 },
 "nbformat": 4,
 "nbformat_minor": 2
}

{
 "cells": [
  {
   "cell_type": "code",
   "execution_count": 5,
   "metadata": {},
   "outputs": [],
   "source": [
    "import * as utils from '../_utils/mod.ts'"
   ]
  },
  {
   "cell_type": "code",
   "execution_count": 6,
   "metadata": {},
   "outputs": [],
   "source": [
    "const input = await utils.loadInput({ day: 1, part: 2, splitLines: true })"
   ]
  },
  {
   "cell_type": "code",
   "execution_count": 7,
   "metadata": {},
   "outputs": [],
   "source": [
    "function calculateSum(input: string[]): number {\n",
    "  return input\n",
    "    .map((line) => {\n",
    "      const digits = findDigits(line);\n",
    "      const first = mapDigit(digits[0])\n",
    "      const last = mapDigit(digits[digits.length - 1])\n",
    "      const int = parseInt(first + last)\n",
    "      return int\n",
    "    })\n",
    "    .reduce((acc, value) => acc + value, 0)\n",
    "}\n",
    "\n",
    "export function findDigits(input: string): string[] {\n",
    "  const digits = []\n",
    "  let matches;\n",
    "  let filteredInput = String(input)\n",
    "  do {\n",
    "    const re = /\\d|one|two|three|four|five|six|seven|eight|nine/g\n",
    "    matches = re.exec(filteredInput);\n",
    "      if (matches) {\n",
    "          digits.push(matches[0])\n",
    "          filteredInput = filteredInput.slice(1)\n",
    "      }\n",
    "  } while (matches);\n",
    "  return digits\n",
    "}\n",
    "\n",
    "function mapDigit(digit: string): string {\n",
    "  switch (digit) {\n",
    "    case 'one':\n",
    "      return '1'\n",
    "    case 'two':\n",
    "      return '2'\n",
    "    case 'three':\n",
    "      return '3'\n",
    "    case 'four':\n",
    "      return '4'\n",
    "    case 'five':\n",
    "      return '5'\n",
    "    case 'six':\n",
    "      return '6'\n",
    "    case 'seven':\n",
    "      return '7'\n",
    "    case 'eight':\n",
    "      return '8'\n",
    "    case 'nine':\n",
    "      return '9'\n",
    "    default:\n",
    "      return digit\n",
    "  }\n",
    "}\n"
   ]
  },
  {
   "cell_type": "code",
   "execution_count": 8,
   "metadata": {},
   "outputs": [
    {
     "name": "stdout",
     "output_type": "stream",
     "text": [
      "54530\n"
     ]
    }
   ],
   "source": [
    "console.log(calculateSum(input))"
   ]
  }
 ],
 "metadata": {
  "kernelspec": {
   "display_name": "Deno",
   "language": "typescript",
   "name": "deno"
  },
  "language_info": {
   "file_extension": ".ts",
   "mimetype": "text/x.typescript",
   "name": "typescript",
   "nb_converter": "script",
   "pygments_lexer": "typescript",
   "version": "5.2.2"
  }
 },
 "nbformat": 4,
 "nbformat_minor": 2
}

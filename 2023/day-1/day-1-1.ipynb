{
 "cells": [
  {
   "cell_type": "code",
   "execution_count": 27,
   "metadata": {},
   "outputs": [],
   "source": [
    "import * as utils from '../_utils/mod.ts'"
   ]
  },
  {
   "cell_type": "code",
   "execution_count": 28,
   "metadata": {},
   "outputs": [],
   "source": [
    "const input = await utils.loadInput({ day: 1, part: 1, splitLines: true })"
   ]
  },
  {
   "cell_type": "code",
   "execution_count": 29,
   "metadata": {},
   "outputs": [],
   "source": [
    "function calculateSum(input: string[]): number {\n",
    "  return input\n",
    "    .map((line) => {\n",
    "      let num = ''\n",
    "      for (const i of line.split('')) {\n",
    "        if (Number.isInteger(parseInt(i))) {\n",
    "          num += i\n",
    "          break\n",
    "        }\n",
    "      }\n",
    "      for (const i of line.split('').reverse()) {\n",
    "        if (Number.isInteger(parseInt(i))) {\n",
    "          num += i\n",
    "          break\n",
    "        }\n",
    "      }\n",
    "      return parseInt(num)\n",
    "    })\n",
    "    .reduce((acc, value) => acc + value, 0)\n",
    "}\n"
   ]
  },
  {
   "cell_type": "code",
   "execution_count": 30,
   "metadata": {},
   "outputs": [
    {
     "name": "stdout",
     "output_type": "stream",
     "text": [
      "56049\n"
     ]
    }
   ],
   "source": [
    "console.log(calculateSum(input))"
   ]
  }
 ],
 "metadata": {
  "kernelspec": {
   "display_name": "Deno",
   "language": "typescript",
   "name": "deno"
  },
  "language_info": {
   "file_extension": ".ts",
   "mimetype": "text/x.typescript",
   "name": "typescript",
   "nb_converter": "script",
   "pygments_lexer": "typescript",
   "version": "5.2.2"
  }
 },
 "nbformat": 4,
 "nbformat_minor": 2
}
